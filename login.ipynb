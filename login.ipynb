{
 "cells": [
  {
   "cell_type": "code",
   "execution_count": 71,
   "id": "28a3af95",
   "metadata": {},
   "outputs": [],
   "source": [
    "from tkinter import *\n",
    "from selenium import webdriver\n",
    "from selenium.webdriver.chrome.options import Options\n",
    "from selenium.webdriver.common.keys import Keys\n",
    "import time\n",
    "from selenium.webdriver.common.action_chains import ActionChains\n",
    "import pyperclip"
   ]
  },
  {
   "cell_type": "code",
   "execution_count": 4,
   "id": "9c4d9bd8",
   "metadata": {},
   "outputs": [
    {
     "ename": "NameError",
     "evalue": "name 'Tk' is not defined",
     "output_type": "error",
     "traceback": [
      "\u001b[1;31m---------------------------------------------------------------------------\u001b[0m",
      "\u001b[1;31mNameError\u001b[0m                                 Traceback (most recent call last)",
      "\u001b[1;32mc:\\Python\\selenium\\login.ipynb Cell 2'\u001b[0m in \u001b[0;36m<module>\u001b[1;34m\u001b[0m\n\u001b[1;32m----> <a href='vscode-notebook-cell:/c%3A/Python/selenium/login.ipynb#ch0000001?line=0'>1</a>\u001b[0m win \u001b[39m=\u001b[39m Tk()\n\u001b[0;32m      <a href='vscode-notebook-cell:/c%3A/Python/selenium/login.ipynb#ch0000001?line=1'>2</a>\u001b[0m win\u001b[39m.\u001b[39mtitle(\u001b[39m\"\u001b[39m\u001b[39mDaum Log-in\u001b[39m\u001b[39m\"\u001b[39m)\n\u001b[0;32m      <a href='vscode-notebook-cell:/c%3A/Python/selenium/login.ipynb#ch0000001?line=2'>3</a>\u001b[0m win\u001b[39m.\u001b[39mgeometry(\u001b[39m\"\u001b[39m\u001b[39m400x300\u001b[39m\u001b[39m\"\u001b[39m)\n",
      "\u001b[1;31mNameError\u001b[0m: name 'Tk' is not defined"
     ]
    }
   ],
   "source": [
    "win = Tk()\n",
    "win.title(\"Daum Log-in\")\n",
    "win.geometry(\"400x300\")\n",
    "win.option_add(\"*Font\", \"궁서 20\")\n",
    "\n",
    "\n",
    "driver = webdriver.Chrome()\n",
    "url = \"https://www.naver.com/\"\n",
    "blog_url = \"https://blog.naver.com/tla1203\"\n",
    "action = ActionChains(driver)\n",
    "\n",
    "\n",
    "# 로고\n",
    "lab_d = Label(win)\n",
    "img = PhotoImage(file = \"C:/rabbit.png\", master = win)\n",
    "\n",
    "# img = img.subsample(2)  이미지 크기를 1/2로 줄인다\n",
    "lab_d.config(image = img)\n",
    "lab_d.pack()\n",
    "\n",
    "# id 라벨\n",
    "lab1 = Label(win)\n",
    "lab1.config(text = \"ID\")\n",
    "lab1.pack()\n",
    "\n",
    "# id 입력창\n",
    "ent1 = Entry(win)\n",
    "ent1.insert(0,\"temp@temp.com\")  #0의 위치부터 글씨를 미리 넣는다.\n",
    "def clear(event):\n",
    "    if ent1.get() == \"temp@temp.com\":\n",
    "        ent1.delete(0,len(ent1.get()))\n",
    "\n",
    "\n",
    "ent1.bind(\"<Button-1>\",clear)\n",
    "ent1.pack()\n",
    "\n",
    "#  pw 라벨\n",
    "lab2 = Label(win)\n",
    "lab2.config(text = \"Password\")\n",
    "lab2.pack()\n",
    "\n",
    "# pw 입력창\n",
    "ent2 = Entry(win)\n",
    "ent2.config(show = \"*\")\n",
    "ent2.pack()\n",
    "\n",
    "# 로그인 버튼\n",
    "btn = Button(win)\n",
    "btn.config(text=\"로그인\")\n",
    "\n",
    "\n",
    "def clipboard_input(user_xpath, user_input):\n",
    "        temp_user_input = pyperclip.paste()  # 사용자 클립보드를 따로 저장\n",
    "        pyperclip.copy(user_input)\n",
    "        driver.find_element_by_xpath(user_xpath).click()\n",
    "        ActionChains(driver).key_down(Keys.CONTROL).send_keys('v').key_up(Keys.CONTROL).perform()\n",
    "\n",
    "        pyperclip.copy(temp_user_input)  # 사용자 클립보드에 저장 된 내용을 다시 가져 옴\n",
    "        time.sleep(1)\n",
    "        \n",
    "def login() :\n",
    "    my_id = ent1.get()\n",
    "    my_pw = ent2.get()\n",
    "    driver.get(url)\n",
    "    driver.find_element_by_css_selector('.link_login').click()\n",
    "    clipboard_input('//*[@id=\"id\"]', my_id)\n",
    "    clipboard_input('//*[@id=\"pw\"]', my_pw)\n",
    "    driver.find_element_by_xpath('//*[@id=\"log.login\"]').click()\n",
    "\n",
    "btn.config(command = login)\n",
    "btn.pack()\n",
    "\n",
    "# 메시지 라벨\n",
    "lab3 = Label(win)\n",
    "lab3.pack()\n",
    "\n",
    "win.mainloop()"
   ]
  },
  {
   "cell_type": "code",
   "execution_count": null,
   "id": "d15d8bde",
   "metadata": {},
   "outputs": [],
   "source": []
  }
 ],
 "metadata": {
  "kernelspec": {
   "display_name": "Python 3 (ipykernel)",
   "language": "python",
   "name": "python3"
  },
  "language_info": {
   "codemirror_mode": {
    "name": "ipython",
    "version": 3
   },
   "file_extension": ".py",
   "mimetype": "text/x-python",
   "name": "python",
   "nbconvert_exporter": "python",
   "pygments_lexer": "ipython3",
   "version": "3.10.2"
  }
 },
 "nbformat": 4,
 "nbformat_minor": 5
}
