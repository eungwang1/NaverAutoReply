{
 "cells": [
  {
   "cell_type": "code",
   "execution_count": 1,
   "id": "14a06ec7",
   "metadata": {},
   "outputs": [],
   "source": [
    "from tkinter import *"
   ]
  },
  {
   "cell_type": "code",
   "execution_count": 27,
   "id": "fc4fa727",
   "metadata": {},
   "outputs": [],
   "source": [
    "win = Tk()\n",
    "win.geometry(\"600x300\")\n",
    "win.title(\"pack\")\n",
    "win.option_add(\"*Font\", \"궁서 20\")\n",
    "\n",
    "# 4 x 3 버튼 grid\n",
    "\n",
    "btn_list = []\n",
    "col_num = 4\n",
    "row_num = 3\n",
    "\n",
    "for j in range(0,row_num):\n",
    "    for i in range(0,col_num):\n",
    "        btn=Button(win)\n",
    "        btn.config(text= \"({},{})\".format(i,j))\n",
    "        btn.grid(column = i, row = j, padx = 10, pady = 10)\n",
    "        btn_list.append(btn)\n",
    "\n",
    "btn = Button(win)\n",
    "btn.config(text = \"new\")\n",
    "btn.grid(column = 3, row = 0, rowspan = 2)\n",
    "\n",
    "win.mainloop()"
   ]
  }
 ],
 "metadata": {
  "kernelspec": {
   "display_name": "Python 3 (ipykernel)",
   "language": "python",
   "name": "python3"
  },
  "language_info": {
   "codemirror_mode": {
    "name": "ipython",
    "version": 3
   },
   "file_extension": ".py",
   "mimetype": "text/x-python",
   "name": "python",
   "nbconvert_exporter": "python",
   "pygments_lexer": "ipython3",
   "version": "3.10.2"
  }
 },
 "nbformat": 4,
 "nbformat_minor": 5
}
